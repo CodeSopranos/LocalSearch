{
 "cells": [
  {
   "cell_type": "markdown",
   "metadata": {},
   "source": [
    "## Лабораторная работа №3. Локальный поиск\n",
    "Илья Седунов,<br>\n",
    "Вадим Альперович,<br>\n",
    "17ПМИ"
   ]
  },
  {
   "cell_type": "markdown",
   "metadata": {},
   "source": [
    "## Cost function history for tai60a\n",
    "![ITERATED](img/iterated_tai20a.png)\n",
    "![GUIDED](img/guided_tai20a.png)"
   ]
  },
  {
   "cell_type": "markdown",
   "metadata": {},
   "source": [
    "---\n",
    "\n",
    "### Benchmark: ```tai20a``` has **20** items and locations<br>\n",
    " - Best known solution cost: *703482* <br>\n",
    " - Initial solution cost: *873908* <br>\n",
    "  - **Local Search** optimal cost **747858** ( exec time ```0.06``` seconds)\n",
    "  - **Iterated Local Search** optimal cost **742752** ( exec time ```2.92``` seconds)\n",
    "  - **Guided Local Search** optimal cost **717222** ( exec time ```0.65``` seconds)\n",
    "\n",
    "---\n",
    "\n",
    "### Benchmark: ```tai40a``` has **40** items and locations<br>\n",
    " - Best known solution cost: *3139370* <br>\n",
    " - Initial solution cost: *3853396* <br>\n",
    "  - **Local Search** optimal cost **3481496** ( exec time ```0.16``` seconds)\n",
    "  - **Iterated Local Search** optimal cost **3361050** ( exec time ```12.22``` seconds)\n",
    "  - **Guided Local Search** optimal cost **3325712** ( exec time ```1.46``` seconds)\n",
    "\n",
    "---\n",
    "\n",
    "### Benchmark: ```tai60a``` has **60** items and locations<br>\n",
    " - Best known solution cost: *7205962* <br>\n",
    " - Initial solution cost: *8484364* <br>\n",
    "  - **Local Search** optimal cost **7959112** ( exec time ```0.64``` seconds)\n",
    "  - **Iterated Local Search** optimal cost **7754148** ( exec time ```22.11``` seconds)\n",
    "  - **Guided Local Search** optimal cost **7656154** ( exec time ```3.82``` seconds)\n",
    "\n",
    "---\n",
    "\n",
    "### Benchmark: ```tai80a``` has **80** items and locations<br>\n",
    " - Best known solution cost: *13515450* <br>\n",
    " - Initial solution cost: *15707292* <br>\n",
    "  - **Local Search** optimal cost **14924312** ( exec time ```0.78``` seconds)\n",
    "  - **Iterated Local Search** optimal cost **14773828** ( exec time ```36.07``` seconds)\n",
    "  - **Guided Local Search** optimal cost **14460422** ( exec time ```8.67``` seconds)\n",
    "\n",
    "---\n",
    "\n",
    "### Benchmark: ```tai100a``` has **100** items and locations<br>\n",
    " - Best known solution cost: *21054656* <br>\n",
    " - Initial solution cost: *24149696* <br>\n",
    "  - **Local Search** optimal cost **23556992** ( exec time ```0.33``` seconds)\n",
    "  - **Iterated Local Search** optimal cost **23037370** ( exec time ```51.95``` seconds)\n",
    "  - **Guided Local Search** optimal cost **22139380** ( exec time ```20.34``` seconds)\n",
    "Wall time: 2min 42s"
   ]
  },
  {
   "cell_type": "markdown",
   "metadata": {},
   "source": [
    "### <center>Comparison:\n",
    "    \n",
    "Used 3 observations"
   ]
  },
  {
   "cell_type": "markdown",
   "metadata": {},
   "source": [
    "| benchmark    |   best_known_cost | algorithm   |   mean_alg_cost |   mean_exec_time |\n",
    "|:-------------|------------------:|:------------|-----------:|------------:|\n",
    "| data\\tai20a  |            703482 | Guided      |     749870 |         0.2 |\n",
    "| data\\tai20a  |            703482 | Iterated    |     731518 |         2.9 |\n",
    "| data\\tai20a  |            703482 | LocalSearch |     763320 |         0.1 |\n",
    "| data\\tai40a  |           3139370 | Guided      |    3320935 |         1.5 |\n",
    "| data\\tai40a  |           3139370 | Iterated    |    3349834 |        12.5 |\n",
    "| data\\tai40a  |           3139370 | LocalSearch |    3430242 |         0.2 |\n",
    "| data\\tai60a  |           7205962 | Guided      |    7683911 |         3.9 |\n",
    "| data\\tai60a  |           7205962 | Iterated    |    7793235 |        23   |\n",
    "| data\\tai60a  |           7205962 | LocalSearch |    7979503 |         0.4 |\n",
    "| data\\tai80a  |          13515450 | Guided      |   14326908 |         9.6 |\n",
    "| data\\tai80a  |          13515450 | Iterated    |   14752530 |        34.1 |\n",
    "| data\\tai80a  |          13515450 | LocalSearch |   15053247 |         0.5 |\n",
    "| data\\tai100a |          21054656 | Guided      |   22197873 |        22.3 |\n",
    "| data\\tai100a |          21054656 | Iterated    |   23035250 |        50.2 |\n",
    "| data\\tai100a |          21054656 | LocalSearch |   23428402 |         1   |"
   ]
  }
 ],
 "metadata": {
  "kernelspec": {
   "display_name": "Python 3",
   "language": "python",
   "name": "python3"
  },
  "language_info": {
   "codemirror_mode": {
    "name": "ipython",
    "version": 3
   },
   "file_extension": ".py",
   "mimetype": "text/x-python",
   "name": "python",
   "nbconvert_exporter": "python",
   "pygments_lexer": "ipython3",
   "version": "3.7.7"
  }
 },
 "nbformat": 4,
 "nbformat_minor": 4
}
