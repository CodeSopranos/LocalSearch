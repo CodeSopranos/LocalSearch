{
 "cells": [
  {
   "cell_type": "code",
   "execution_count": 1,
   "metadata": {},
   "outputs": [],
   "source": [
    "import os \n",
    "import glob\n",
    "import numpy as np\n",
    "import pandas as pd\n",
    "import importlib as imp\n",
    "\n",
    "from tqdm import tqdm, tqdm_notebook\n",
    "import warnings\n",
    "warnings.simplefilter('ignore')\n",
    "pd.options.display.max_columns = 100"
   ]
  },
  {
   "cell_type": "markdown",
   "metadata": {},
   "source": [
    "*Ваша третья лабораторная работа будет заключаться в реализации и сравнении алгоритмов для решения quadratic assignment problem. Вам нужно будет реализовать следующие алгоритмы, которые мы разбирали на паре:*\n",
    "\n",
    "**1) Local search - сделать 2 opt либо с best-improvement либо first-improvement + don't look bits<br>\n",
    "2) Iterated local search - можно использовать stochastic 2-opt <br>\n",
    "3) Guided local search  - можно использовать stochastic 2-opt <br>**\n",
    "\n",
    "Реализовать можно на любом языке. Также нужно будет сравнить время работы алгоритма, а так же показать лучшее решение каждого алгоритма, которое удалось найти вам.\n",
    "\n",
    "---\n",
    "\n",
    "<i>**Данные:**\n",
    "\n",
    "Данные для работы прикрепил архивом к письму. Структура такая: <br>\n",
    "n - количество заводов и мест <br>\n",
    "следующие n строчек - матрица расстояний D <br>\n",
    "пустая строчка <br>\n",
    "следующие n строчек - матрица потока F</i>\n",
    "\n",
    "---\n",
    "\n",
    "Форма отчетности: <br>\n",
    "\n",
    "Вы присылаете мне код алгоритмов и небольшой отчет. Пожалуйста прикрепляте код в отдельном исполняймом файле, не засовывайте в отчет. Работать можно в группах не более 3-х человек. В отчете должны быть таблички со скоростью и для конкретного алгоритма на конкретном наборе данных + ответ каждого алгоритма.\n",
    "\n",
    "**Важно:** сделайте так же файлики с ответами. Имя файлика - Tai20a.sol, Tai40a.sol  и т.п. Формат файлика с ответами:\n",
    "\n",
    "14 13 5... - значит завод 14 помещаем на 1 локацию, 13 на 2, 5 на 3 и т.п. Разделитель пробел."
   ]
  },
  {
   "cell_type": "code",
   "execution_count": 44,
   "metadata": {},
   "outputs": [],
   "source": [
    "from utils import tools\n",
    "tools = imp.reload(tools)"
   ]
  },
  {
   "cell_type": "code",
   "execution_count": 7,
   "metadata": {},
   "outputs": [
    {
     "data": {
      "text/plain": [
       "['data\\\\tai100a',\n",
       " 'data\\\\tai20a',\n",
       " 'data\\\\tai40a',\n",
       " 'data\\\\tai60a',\n",
       " 'data\\\\tai80a']"
      ]
     },
     "execution_count": 7,
     "metadata": {},
     "output_type": "execute_result"
    }
   ],
   "source": [
    "benchmarks = glob.glob('data/*')\n",
    "benchmarks"
   ]
  },
  {
   "cell_type": "code",
   "execution_count": 62,
   "metadata": {},
   "outputs": [],
   "source": [
    "from itertools import combinations\n",
    "import copy\n",
    "from tqdm import tqdm, tqdm_notebook"
   ]
  },
  {
   "cell_type": "code",
   "execution_count": 145,
   "metadata": {
    "scrolled": true
   },
   "outputs": [
    {
     "name": "stdout",
     "output_type": "stream",
     "text": [
      "40 items\n",
      "Start cost 3846506\n"
     ]
    }
   ],
   "source": [
    "problem = tools.get_problem_dct(benchmarks[2])\n",
    "print('{} items'.format(problem['n']))\n",
    "\n",
    "solution = np.arange(problem['n'])\n",
    "solution = np.random.permutation(solution)\n",
    "cur_cost = tools.compute_solution(problem, solution)\n",
    "print('Start cost {}'.format(cur_cost))"
   ]
  },
  {
   "cell_type": "code",
   "execution_count": 156,
   "metadata": {},
   "outputs": [
    {
     "name": "stdout",
     "output_type": "stream",
     "text": [
      "Start cost 3846506\n"
     ]
    },
    {
     "name": "stderr",
     "output_type": "stream",
     "text": [
      " 29%|██████████████████████▎                                                      | 116/400 [00:30<05:45,  1.22s/it]"
     ]
    },
    {
     "name": "stdout",
     "output_type": "stream",
     "text": [
      "patience is over!\n",
      "End cost 3362767\n"
     ]
    },
    {
     "data": {
      "text/plain": [
       "array([17, 14,  6, 13,  0, 35, 22, 11, 25, 30, 34,  7,  4, 12, 27, 18, 28,\n",
       "       31, 38, 29,  9,  2, 19, 15,  1, 21, 36, 33, 16,  8, 23, 37, 39, 24,\n",
       "       10,  5, 26,  3, 20, 32])"
      ]
     },
     "execution_count": 156,
     "metadata": {},
     "output_type": "execute_result"
    }
   ],
   "source": [
    "from algorithm import local_search\n",
    "local_search = imp.reload(local_search)\n",
    "\n",
    "params = dict(solution=solution,\n",
    "              n_iter=400,\n",
    "              patience=20)\n",
    "alg = local_search.LocalSearch(problem)\n",
    "alg.set_params(params)\n",
    "alg.solve()"
   ]
  }
 ],
 "metadata": {
  "kernelspec": {
   "display_name": "Python 3",
   "language": "python",
   "name": "python3"
  },
  "language_info": {
   "codemirror_mode": {
    "name": "ipython",
    "version": 3
   },
   "file_extension": ".py",
   "mimetype": "text/x-python",
   "name": "python",
   "nbconvert_exporter": "python",
   "pygments_lexer": "ipython3",
   "version": "3.7.7"
  }
 },
 "nbformat": 4,
 "nbformat_minor": 4
}
