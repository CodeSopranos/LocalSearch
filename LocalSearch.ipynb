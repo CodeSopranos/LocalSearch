{
 "cells": [
  {
   "cell_type": "code",
   "execution_count": 1,
   "metadata": {},
   "outputs": [],
   "source": [
    "import os \n",
    "import glob\n",
    "import numpy as np\n",
    "import pandas as pd\n",
    "import importlib as imp\n",
    "\n",
    "from tqdm import tqdm, tqdm_notebook\n",
    "import warnings\n",
    "warnings.simplefilter('ignore')\n",
    "pd.options.display.max_columns = 100"
   ]
  },
  {
   "cell_type": "markdown",
   "metadata": {},
   "source": [
    "*Ваша третья лабораторная работа будет заключаться в реализации и сравнении алгоритмов для решения quadratic assignment problem. Вам нужно будет реализовать следующие алгоритмы, которые мы разбирали на паре:*\n",
    "\n",
    "**1) Local search - сделать 2 opt либо с best-improvement либо first-improvement + don't look bits<br>\n",
    "2) Iterated local search - можно использовать stochastic 2-opt <br>\n",
    "3) Guided local search  - можно использовать stochastic 2-opt <br>**\n",
    "\n",
    "Реализовать можно на любом языке. Также нужно будет сравнить время работы алгоритма, а так же показать лучшее решение каждого алгоритма, которое удалось найти вам.\n",
    "\n",
    "---\n",
    "\n",
    "<i>**Данные:**\n",
    "\n",
    "Данные для работы прикрепил архивом к письму. Структура такая: <br>\n",
    "n - количество заводов и мест <br>\n",
    "следующие n строчек - матрица расстояний D <br>\n",
    "пустая строчка <br>\n",
    "следующие n строчек - матрица потока F</i>\n",
    "\n",
    "---\n",
    "\n",
    "Форма отчетности: <br>\n",
    "\n",
    "Вы присылаете мне код алгоритмов и небольшой отчет. Пожалуйста прикрепляте код в отдельном исполняймом файле, не засовывайте в отчет. Работать можно в группах не более 3-х человек. В отчете должны быть таблички со скоростью и для конкретного алгоритма на конкретном наборе данных + ответ каждого алгоритма.\n",
    "\n",
    "**Важно:** сделайте так же файлики с ответами. Имя файлика - Tai20a.sol, Tai40a.sol  и т.п. Формат файлика с ответами:\n",
    "\n",
    "14 13 5... - значит завод 14 помещаем на 1 локацию, 13 на 2, 5 на 3 и т.п. Разделитель пробел."
   ]
  },
  {
   "cell_type": "code",
   "execution_count": 9,
   "metadata": {},
   "outputs": [],
   "source": [
    "from utils import tools\n",
    "tools = imp.reload(tools)"
   ]
  },
  {
   "cell_type": "code",
   "execution_count": 3,
   "metadata": {},
   "outputs": [
    {
     "data": {
      "text/plain": [
       "['data\\\\tai100a',\n",
       " 'data\\\\tai20a',\n",
       " 'data\\\\tai40a',\n",
       " 'data\\\\tai60a',\n",
       " 'data\\\\tai80a']"
      ]
     },
     "execution_count": 3,
     "metadata": {},
     "output_type": "execute_result"
    }
   ],
   "source": [
    "benchmarks = glob.glob('data/*')\n",
    "benchmarks"
   ]
  },
  {
   "cell_type": "code",
   "execution_count": 89,
   "metadata": {
    "scrolled": true
   },
   "outputs": [
    {
     "name": "stdout",
     "output_type": "stream",
     "text": [
      "20 items\n",
      "Start cost 904234\n"
     ]
    }
   ],
   "source": [
    "from algorithm import local_search, iterated_local_search, guided_local_search\n",
    "tools   = imp.reload(tools)\n",
    "problem = tools.get_problem_dct(benchmarks[1])\n",
    "# print(problem)\n",
    "print('{} items'.format(problem['n']))\n",
    "\n",
    "solution = np.arange(problem['n'])\n",
    "solution = np.random.permutation(solution)\n",
    "cur_cost = tools.compute_solution(problem, solution)\n",
    "print('Start cost {}'.format(cur_cost))"
   ]
  },
  {
   "cell_type": "code",
   "execution_count": 90,
   "metadata": {
    "scrolled": true
   },
   "outputs": [
    {
     "name": "stdout",
     "output_type": "stream",
     "text": [
      "Start cost 904234\n"
     ]
    },
    {
     "name": "stderr",
     "output_type": "stream",
     "text": [
      " 19%|██████████████▋                                                              | 19/100 [00:00<00:00, 181.45it/s]"
     ]
    },
    {
     "name": "stdout",
     "output_type": "stream",
     "text": [
      "No better solutions, stoping...\n"
     ]
    },
    {
     "name": "stderr",
     "output_type": "stream",
     "text": [
      "\n"
     ]
    },
    {
     "name": "stdout",
     "output_type": "stream",
     "text": [
      "End cost 774714\n",
      "Wall time: 201 ms\n"
     ]
    },
    {
     "data": {
      "text/plain": [
       "array([ 9,  7,  5, 19,  6, 14, 10, 13,  4, 16, 18, 12,  8, 17,  3,  2,  1,\n",
       "       11,  0, 15])"
      ]
     },
     "execution_count": 90,
     "metadata": {},
     "output_type": "execute_result"
    }
   ],
   "source": [
    "%%time\n",
    "local_search = imp.reload(local_search)\n",
    "\n",
    "params = dict(solution=solution,\n",
    "              method='first-improvement',\n",
    "              n_iter=100,\n",
    "              verbose=True)\n",
    "alg = local_search.LocalSearch(problem)\n",
    "alg.set_params(params)\n",
    "alg.solve()"
   ]
  },
  {
   "cell_type": "code",
   "execution_count": 91,
   "metadata": {},
   "outputs": [
    {
     "name": "stderr",
     "output_type": "stream",
     "text": [
      "100%|█████████████████████████████████████████████████████████████████████████████| 100/100 [00:31<00:00,  3.21it/s]\n"
     ]
    },
    {
     "name": "stdout",
     "output_type": "stream",
     "text": [
      "End cost: 732018\n"
     ]
    },
    {
     "data": {
      "text/plain": [
       "array([ 8, 17, 10,  2, 13, 12,  1, 16,  7, 11, 18, 15,  4,  3,  0, 14,  5,\n",
       "        6,  9, 19])"
      ]
     },
     "execution_count": 91,
     "metadata": {},
     "output_type": "execute_result"
    }
   ],
   "source": [
    "iterated_local_search = imp.reload(iterated_local_search)\n",
    "params = dict(solution=solution,\n",
    "              method='first-improvement',\n",
    "              n_iter_ls=200,\n",
    "              n_iter=100,\n",
    "              verbose=True)\n",
    "alg = iterated_local_search.Iterated(problem)\n",
    "alg.set_params(params)\n",
    "alg.refresh_params()\n",
    "alg.solve()"
   ]
  },
  {
   "cell_type": "code",
   "execution_count": 92,
   "metadata": {},
   "outputs": [
    {
     "name": "stderr",
     "output_type": "stream",
     "text": [
      "100%|█████████████████████████████████████████████████████████████████████████████| 100/100 [00:27<00:00,  3.68it/s]\n"
     ]
    },
    {
     "name": "stdout",
     "output_type": "stream",
     "text": [
      "End cost: 741130.0\n"
     ]
    },
    {
     "data": {
      "text/plain": [
       "array([ 3,  7,  5, 19, 16,  4, 14, 13, 18,  6, 10, 12,  8,  9, 17,  2,  1,\n",
       "       11,  0, 15])"
      ]
     },
     "execution_count": 92,
     "metadata": {},
     "output_type": "execute_result"
    }
   ],
   "source": [
    "guided_local_search = imp.reload(guided_local_search)\n",
    "params = dict(solution=solution,\n",
    "              method='first-improvement',\n",
    "              n_iter=200,\n",
    "              n_epoch=100,\n",
    "              mu=2,\n",
    "              verbose=True)\n",
    "alg = guided_local_search.Guided(problem)\n",
    "alg.set_params(params)\n",
    "alg.refresh_params()\n",
    "alg.solve()"
   ]
  }
 ],
 "metadata": {
  "kernelspec": {
   "display_name": "Python 3",
   "language": "python",
   "name": "python3"
  },
  "language_info": {
   "codemirror_mode": {
    "name": "ipython",
    "version": 3
   },
   "file_extension": ".py",
   "mimetype": "text/x-python",
   "name": "python",
   "nbconvert_exporter": "python",
   "pygments_lexer": "ipython3",
   "version": "3.7.7"
  }
 },
 "nbformat": 4,
 "nbformat_minor": 4
}
