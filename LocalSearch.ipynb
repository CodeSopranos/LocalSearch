{
 "cells": [
  {
   "cell_type": "code",
   "execution_count": 1,
   "metadata": {},
   "outputs": [],
   "source": [
    "import os \n",
    "import glob\n",
    "import numpy as np\n",
    "import pandas as pd\n",
    "import importlib as imp\n",
    "\n",
    "from tqdm import tqdm, tqdm_notebook\n",
    "import warnings\n",
    "warnings.simplefilter('ignore')\n",
    "pd.options.display.max_columns = 100"
   ]
  },
  {
   "cell_type": "markdown",
   "metadata": {},
   "source": [
    "*Ваша третья лабораторная работа будет заключаться в реализации и сравнении алгоритмов для решения quadratic assignment problem. Вам нужно будет реализовать следующие алгоритмы, которые мы разбирали на паре:*\n",
    "\n",
    "**1) Local search - сделать 2 opt либо с best-improvement либо first-improvement + don't look bits<br>\n",
    "2) Iterated local search - можно использовать stochastic 2-opt <br>\n",
    "3) Guided local search  - можно использовать stochastic 2-opt <br>**\n",
    "\n",
    "Реализовать можно на любом языке. Также нужно будет сравнить время работы алгоритма, а так же показать лучшее решение каждого алгоритма, которое удалось найти вам.\n",
    "\n",
    "---\n",
    "\n",
    "<i>**Данные:**\n",
    "\n",
    "Данные для работы прикрепил архивом к письму. Структура такая: <br>\n",
    "n - количество заводов и мест <br>\n",
    "следующие n строчек - матрица расстояний D <br>\n",
    "пустая строчка <br>\n",
    "следующие n строчек - матрица потока F</i>\n",
    "\n",
    "---\n",
    "\n",
    "Форма отчетности: <br>\n",
    "\n",
    "Вы присылаете мне код алгоритмов и небольшой отчет. Пожалуйста прикрепляте код в отдельном исполняймом файле, не засовывайте в отчет. Работать можно в группах не более 3-х человек. В отчете должны быть таблички со скоростью и для конкретного алгоритма на конкретном наборе данных + ответ каждого алгоритма.\n",
    "\n",
    "**Важно:** сделайте так же файлики с ответами. Имя файлика - Tai20a.sol, Tai40a.sol  и т.п. Формат файлика с ответами:\n",
    "\n",
    "14 13 5... - значит завод 14 помещаем на 1 локацию, 13 на 2, 5 на 3 и т.п. Разделитель пробел."
   ]
  },
  {
   "cell_type": "code",
   "execution_count": 2,
   "metadata": {},
   "outputs": [],
   "source": [
    "from utils import tools\n",
    "tools = imp.reload(tools)"
   ]
  },
  {
   "cell_type": "code",
   "execution_count": 3,
   "metadata": {},
   "outputs": [
    {
     "data": {
      "text/plain": [
       "['data\\\\tai100a',\n",
       " 'data\\\\tai20a',\n",
       " 'data\\\\tai40a',\n",
       " 'data\\\\tai60a',\n",
       " 'data\\\\tai80a']"
      ]
     },
     "execution_count": 3,
     "metadata": {},
     "output_type": "execute_result"
    }
   ],
   "source": [
    "benchmarks = glob.glob('data/*')\n",
    "benchmarks"
   ]
  },
  {
   "cell_type": "code",
   "execution_count": 290,
   "metadata": {},
   "outputs": [
    {
     "name": "stdout",
     "output_type": "stream",
     "text": [
      "60 items\n",
      "Start cost 8465466\n"
     ]
    }
   ],
   "source": [
    "# from algorithm import local_search, iterated_local_search, guided_local_search\n",
    "tools   = imp.reload(tools)\n",
    "problem = tools.get_problem_dct(benchmarks[3])\n",
    "# print(problem)\n",
    "print('{} items'.format(problem['n']))\n",
    "\n",
    "solution = np.arange(problem['n'])\n",
    "solution = np.random.permutation(solution)\n",
    "cur_cost = tools.compute_solution(problem, solution)\n",
    "print('Start cost {}'.format(cur_cost))"
   ]
  },
  {
   "cell_type": "code",
   "execution_count": 291,
   "metadata": {
    "scrolled": true
   },
   "outputs": [
    {
     "name": "stdout",
     "output_type": "stream",
     "text": [
      "Start cost 8465466\n"
     ]
    },
    {
     "name": "stderr",
     "output_type": "stream",
     "text": [
      " 28%|█████████████████████▊                                                        | 28/100 [00:01<00:04, 16.37it/s]\n",
      " 60%|██████████████████████████████████████████████▊                               | 60/100 [00:04<00:04,  9.44it/s]"
     ]
    },
    {
     "name": "stdout",
     "output_type": "stream",
     "text": [
      "No better solutions, stoping...\n",
      "End cost 7771362\n",
      "Wall time: 4.45 s\n"
     ]
    }
   ],
   "source": [
    "%%time\n",
    "local_search = imp.reload(local_search)\n",
    "\n",
    "params = dict(solution=solution,\n",
    "              method='first-improvement',\n",
    "              n_iter=100,\n",
    "              verbose=True)\n",
    "alg = local_search.LocalSearch(problem)\n",
    "alg.set_params(params)\n",
    "_ = alg.solve()"
   ]
  },
  {
   "cell_type": "code",
   "execution_count": 292,
   "metadata": {},
   "outputs": [
    {
     "name": "stdout",
     "output_type": "stream",
     "text": [
      "Start cost: 8465466\n"
     ]
    },
    {
     "name": "stderr",
     "output_type": "stream",
     "text": [
      "  0%|                                                                                        | 0/50 [00:00<?, ?it/s]\n",
      "100%|███████████████████████████████████████████████████████████████████████████████| 50/50 [04:34<00:00,  5.81s/it]\n"
     ]
    },
    {
     "name": "stdout",
     "output_type": "stream",
     "text": [
      "End cost: 7722414\n"
     ]
    },
    {
     "data": {
      "image/png": "[encoded data removed]",
      "text/plain": [
       "<Figure size 720x288 with 1 Axes>"
      ]
     },
     "metadata": {
      "needs_background": "light"
     },
     "output_type": "display_data"
    },
    {
     "name": "stdout",
     "output_type": "stream",
     "text": [
      "Wall time: 4min 39s\n"
     ]
    }
   ],
   "source": [
    "%%time\n",
    "iterated_local_search = imp.reload(iterated_local_search)\n",
    "params = dict(solution=solution,\n",
    "              method='first-improvement',\n",
    "              n_iter_ls=100,\n",
    "              n_iter=50,\n",
    "              verbose=True)\n",
    "alg = iterated_local_search.Iterated(problem)\n",
    "alg.set_params(params)\n",
    "alg.refresh_params()\n",
    "_ = alg.solve()\n",
    "history = alg.get_history()"
   ]
  },
  {
   "cell_type": "code",
   "execution_count": 293,
   "metadata": {
    "scrolled": false
   },
   "outputs": [
    {
     "name": "stderr",
     "output_type": "stream",
     "text": [
      " 17%|█████████████                                                                 | 25/150 [00:43<05:25,  2.60s/it]"
     ]
    },
    {
     "name": "stdout",
     "output_type": "stream",
     "text": [
      "No better solutions, stoping...\n",
      "End cost: 7609338\n"
     ]
    },
    {
     "data": {
      "image/png": "[encoded data removed]",
      "text/plain": [
       "<Figure size 720x288 with 1 Axes>"
      ]
     },
     "metadata": {
      "needs_background": "light"
     },
     "output_type": "display_data"
    },
    {
     "name": "stdout",
     "output_type": "stream",
     "text": [
      "[1 0 0 0 1 0 0 1 0 0 1 1 0 1 0 1 1 1 0 0 0 0 0 0 2 0 1 0 1 0 0 0 2 0 0 0 2\n",
      " 0 1 0 0 2 0 0 0 1 1 1 0 0 1 0 1 0 0 1 0 0 0 1]\n",
      "Wall time: 46.8 s\n"
     ]
    }
   ],
   "source": [
    "%%time\n",
    "guided_local_search = imp.reload(guided_local_search)\n",
    "params = dict(solution=solution,\n",
    "              method='first-improvement',\n",
    "              n_iter=5,\n",
    "              n_epoch=150,\n",
    "              mu=0.0007,\n",
    "              patience=10,\n",
    "              verbose=True)\n",
    "alg = guided_local_search.Guided(problem)\n",
    "alg.set_params(params)\n",
    "alg.refresh_params()\n",
    "_ = alg.solve()\n",
    "history = alg.get_history()\n",
    "print(alg.penalty.sum(axis=0))"
   ]
  },
  {
   "cell_type": "code",
   "execution_count": 295,
   "metadata": {},
   "outputs": [],
   "source": [
    "# problem"
   ]
  },
  {
   "cell_type": "code",
   "execution_count": null,
   "metadata": {},
   "outputs": [],
   "source": []
  }
 ],
 "metadata": {
  "kernelspec": {
   "display_name": "Python 3",
   "language": "python",
   "name": "python3"
  },
  "language_info": {
   "codemirror_mode": {
    "name": "ipython",
    "version": 3
   },
   "file_extension": ".py",
   "mimetype": "text/x-python",
   "name": "python",
   "nbconvert_exporter": "python",
   "pygments_lexer": "ipython3",
   "version": "3.7.7"
  }
 },
 "nbformat": 4,
 "nbformat_minor": 4
}
