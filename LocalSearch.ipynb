{
 "cells": [
  {
   "cell_type": "code",
   "execution_count": 1,
   "metadata": {},
   "outputs": [],
   "source": [
    "import os \n",
    "import glob\n",
    "import numpy as np\n",
    "import pandas as pd\n",
    "import importlib as imp\n",
    "\n",
    "from tqdm import tqdm, tqdm_notebook\n",
    "import warnings\n",
    "warnings.simplefilter('ignore')\n",
    "pd.options.display.max_columns = 100"
   ]
  },
  {
   "cell_type": "markdown",
   "metadata": {},
   "source": [
    "*Ваша третья лабораторная работа будет заключаться в реализации и сравнении алгоритмов для решения quadratic assignment problem. Вам нужно будет реализовать следующие алгоритмы, которые мы разбирали на паре:*\n",
    "\n",
    "**1) Local search - сделать 2 opt либо с best-improvement либо first-improvement + don't look bits<br>\n",
    "2) Iterated local search - можно использовать stochastic 2-opt <br>\n",
    "3) Guided local search  - можно использовать stochastic 2-opt <br>**\n",
    "\n",
    "Реализовать можно на любом языке. Также нужно будет сравнить время работы алгоритма, а так же показать лучшее решение каждого алгоритма, которое удалось найти вам.\n",
    "\n",
    "---\n",
    "\n",
    "<i>**Данные:**\n",
    "\n",
    "Данные для работы прикрепил архивом к письму. Структура такая: <br>\n",
    "n - количество заводов и мест <br>\n",
    "следующие n строчек - матрица расстояний D <br>\n",
    "пустая строчка <br>\n",
    "следующие n строчек - матрица потока F</i>\n",
    "\n",
    "---\n",
    "\n",
    "Форма отчетности: <br>\n",
    "\n",
    "Вы присылаете мне код алгоритмов и небольшой отчет. Пожалуйста прикрепляте код в отдельном исполняймом файле, не засовывайте в отчет. Работать можно в группах не более 3-х человек. В отчете должны быть таблички со скоростью и для конкретного алгоритма на конкретном наборе данных + ответ каждого алгоритма.\n",
    "\n",
    "**Важно:** сделайте так же файлики с ответами. Имя файлика - Tai20a.sol, Tai40a.sol  и т.п. Формат файлика с ответами:\n",
    "\n",
    "14 13 5... - значит завод 14 помещаем на 1 локацию, 13 на 2, 5 на 3 и т.п. Разделитель пробел."
   ]
  },
  {
   "cell_type": "code",
   "execution_count": 44,
   "metadata": {},
   "outputs": [],
   "source": [
    "from utils import tools\n",
    "tools = imp.reload(tools)"
   ]
  },
  {
   "cell_type": "code",
   "execution_count": 7,
   "metadata": {},
   "outputs": [
    {
     "data": {
      "text/plain": [
       "['data\\\\tai100a',\n",
       " 'data\\\\tai20a',\n",
       " 'data\\\\tai40a',\n",
       " 'data\\\\tai60a',\n",
       " 'data\\\\tai80a']"
      ]
     },
     "execution_count": 7,
     "metadata": {},
     "output_type": "execute_result"
    }
   ],
   "source": [
    "benchmarks = glob.glob('data/*')\n",
    "benchmarks"
   ]
  },
  {
   "cell_type": "code",
   "execution_count": 238,
   "metadata": {},
   "outputs": [],
   "source": [
    "from itertools import combinations\n",
    "import copy\n",
    "from tqdm import tqdm, tqdm_notebook"
   ]
  },
  {
   "cell_type": "code",
   "execution_count": 254,
   "metadata": {
    "scrolled": true
   },
   "outputs": [
    {
     "name": "stdout",
     "output_type": "stream",
     "text": [
      "100 items\n",
      "Start cost 23338481\n"
     ]
    }
   ],
   "source": [
    "problem = tools.get_problem_dct(benchmarks[0])\n",
    "print('{} items'.format(problem['n']))\n",
    "\n",
    "solution = np.arange(problem['n'])\n",
    "solution = np.random.permutation(solution)\n",
    "cur_cost = tools.compute_solution(problem, solution)\n",
    "print('Start cost {}'.format(cur_cost))"
   ]
  },
  {
   "cell_type": "code",
   "execution_count": 256,
   "metadata": {
    "scrolled": true
   },
   "outputs": [
    {
     "name": "stdout",
     "output_type": "stream",
     "text": [
      "Start cost 23338481\n"
     ]
    },
    {
     "name": "stderr",
     "output_type": "stream",
     "text": [
      " 12%|█████████▊                                                                    | 25/200 [00:02<00:20,  8.57it/s]\n",
      " 93%|███████████████████████████████████████████████████████████████████████▌     | 186/200 [00:36<00:03,  4.66it/s]"
     ]
    },
    {
     "name": "stdout",
     "output_type": "stream",
     "text": [
      "No better solutions, stoping...\n",
      "End cost 22101608\n",
      "Wall time: 37.2 s\n"
     ]
    },
    {
     "data": {
      "text/plain": [
       "array([67, 70, 60, 17, 42, 34, 97, 94, 75, 35, 65, 40, 52, 81, 10, 66,  0,\n",
       "        3, 87, 69, 63, 80, 45, 68, 12, 24,  5, 37, 39, 55, 18, 38, 89, 16,\n",
       "       74, 56, 23, 15, 19, 72, 79,  7, 13, 14, 29, 22, 36,  6,  8,  2, 62,\n",
       "        9, 83, 86, 25, 27, 78, 11, 26, 32, 28, 30, 99, 20, 47, 53, 48, 41,\n",
       "        4, 59,  1, 50, 90, 51, 44, 21, 49, 73, 92, 82, 95, 33, 84, 57, 98,\n",
       "       91, 71, 93, 31, 58, 85, 54, 46, 61, 77, 64, 88, 96, 76, 43])"
      ]
     },
     "execution_count": 256,
     "metadata": {},
     "output_type": "execute_result"
    }
   ],
   "source": [
    "%%time\n",
    "from algorithm import local_search\n",
    "local_search = imp.reload(local_search)\n",
    "\n",
    "params = dict(solution=solution,\n",
    "              method='first-improvement',\n",
    "              n_iter=200)\n",
    "alg = local_search.LocalSearch(problem)\n",
    "alg.set_params(params)\n",
    "alg.solve()"
   ]
  },
  {
   "cell_type": "code",
   "execution_count": null,
   "metadata": {},
   "outputs": [],
   "source": []
  },
  {
   "cell_type": "code",
   "execution_count": null,
   "metadata": {},
   "outputs": [],
   "source": []
  }
 ],
 "metadata": {
  "kernelspec": {
   "display_name": "Python 3",
   "language": "python",
   "name": "python3"
  },
  "language_info": {
   "codemirror_mode": {
    "name": "ipython",
    "version": 3
   },
   "file_extension": ".py",
   "mimetype": "text/x-python",
   "name": "python",
   "nbconvert_exporter": "python",
   "pygments_lexer": "ipython3",
   "version": "3.7.7"
  }
 },
 "nbformat": 4,
 "nbformat_minor": 4
}
